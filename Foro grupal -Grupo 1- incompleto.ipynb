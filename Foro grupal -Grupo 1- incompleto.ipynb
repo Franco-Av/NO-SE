{
 "cells": [
  {
   "cell_type": "code",
   "execution_count": 1,
   "metadata": {},
   "outputs": [
    {
     "ename": "SyntaxError",
     "evalue": "invalid syntax (<ipython-input-1-9a05acda5792>, line 29)",
     "output_type": "error",
     "traceback": [
      "\u001b[1;36m  File \u001b[1;32m\"<ipython-input-1-9a05acda5792>\"\u001b[1;36m, line \u001b[1;32m29\u001b[0m\n\u001b[1;33m    facts/random?animal_type=cat&amount=2()\u001b[0m\n\u001b[1;37m                ^\u001b[0m\n\u001b[1;31mSyntaxError\u001b[0m\u001b[1;31m:\u001b[0m invalid syntax\n"
     ]
    }
   ],
   "source": [
    "#Grupo 1\n",
    "#INTEGRANTES:\n",
    "#Franco Aguirre\n",
    "#Mauricio Salinas\n",
    "#Yhiro Lobato\n",
    "\n",
    "from urllib.request import urlopen\n",
    "#import numpy as np\n",
    "#import matplotlib.pyplot as ptl\n",
    "#import seaborn as sns\n",
    "#from bs4 import BeautifulSoup as soup\n",
    "import requests\n",
    "import json\n",
    "\n",
    "##Toda llamada en un API tiene:\n",
    "# - Base url: \n",
    "# - Query: los parámetros vienen como \"q\" por defecto\n",
    "# - Apikey: proveniente del logueo\n",
    "\n",
    "#La pagina que nos tocó es la siguiente: \"Cat Facts\"\n",
    "# Cat Facts es una página que nos aporta datos divertidos de gatos combinando API y servicios de la web.\n",
    "# En esta página no es necesario loguearse para conseguir la API y no se necesitaba un Apikey.\n",
    "\n",
    "############\n",
    "# Base: https://cat-fact.herokuapp.com \n",
    "# Query: /facts/random?animal_type=cat&amount=2\n",
    "#En la \"url\" guardamos la cadena que contine la API a utilizar\n",
    "url=\"https://cat-fact.herokuapp.com/facts/random?animal_type=cat&amount=2\"\n",
    "/facts/random?animal_type=cat&amount=2\n",
    "# Abrimos una conexion al url y guardamos su contenido\n",
    "uclient=urlopen(url)\n",
    "# Leemos el contenido\n",
    "responsehtml=uclient.read()\n",
    "# Cerramos la conexion creada anteriormente\n",
    "uclient.close()\n",
    "# Procedemos a decodificar y guardar el contenido en el objeto \"data\"\n",
    "data = responsehtml.decode()\n",
    "# Imprimimos el resultado\n",
    "data\n",
    "\n",
    "\n",
    "#No pudimos encontrar el API de la página, por esta razón no pudimos terminar el trabajo.\n"
   ]
  },
  {
   "cell_type": "code",
   "execution_count": null,
   "metadata": {},
   "outputs": [],
   "source": []
  }
 ],
 "metadata": {
  "kernelspec": {
   "display_name": "Python 3",
   "language": "python",
   "name": "python3"
  },
  "language_info": {
   "codemirror_mode": {
    "name": "ipython",
    "version": 3
   },
   "file_extension": ".py",
   "mimetype": "text/x-python",
   "name": "python",
   "nbconvert_exporter": "python",
   "pygments_lexer": "ipython3",
   "version": "3.8.8"
  }
 },
 "nbformat": 4,
 "nbformat_minor": 4
}
